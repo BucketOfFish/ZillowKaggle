{
 "cells": [
  {
   "cell_type": "code",
   "execution_count": 1,
   "metadata": {
    "collapsed": false
   },
   "outputs": [
    {
     "name": "stderr",
     "output_type": "stream",
     "text": [
      "/Users/mattzhang/py2_kernel/lib/python2.7/site-packages/IPython/core/interactiveshell.py:2723: DtypeWarning: Columns (22,32,34,49,55) have mixed types. Specify dtype option on import or set low_memory=False.\n",
      "  interactivity=interactivity, compiler=compiler, result=result)\n"
     ]
    }
   ],
   "source": [
    "import pandas as pd\n",
    "import csv\n",
    "import sys\n",
    "import StringIO\n",
    "import os\n",
    "\n",
    "prepath = \"/Users/mattzhang/Dropbox/Projects/Data/Zillow/\"\n",
    "properties = pd.read_csv(prepath+\"properties_2016.csv\")"
   ]
  },
  {
   "cell_type": "code",
   "execution_count": 2,
   "metadata": {
    "collapsed": false
   },
   "outputs": [],
   "source": [
    "# sensible dataset names, from https://www.kaggle.com/philippsp/exploratory-analysis-zillow\n",
    "# also, make text-based values numeric\n",
    "\n",
    "properties = properties.rename(columns={\n",
    "    'parcelid': 'id_parcel',\n",
    "    'yearbuilt': 'build_year',\n",
    "    'basementsqft': 'area_basement',\n",
    "    'yardbuildingsqft17': 'area_patio',\n",
    "    'yardbuildingsqft26': 'area_shed',\n",
    "    'poolsizesum': 'area_pool',\n",
    "    'lotsizesquarefeet': 'area_lot',\n",
    "    'garagetotalsqft': 'area_garage',\n",
    "    'finishedfloor1squarefeet': 'area_firstfloor_finished',\n",
    "    'calculatedfinishedsquarefeet': 'area_total_calc',\n",
    "    'finishedsquarefeet6': 'area_base',\n",
    "    'finishedsquarefeet12': 'area_live_finished',\n",
    "    'finishedsquarefeet13': 'area_liveperi_finished',\n",
    "    'finishedsquarefeet15': 'area_total_finished',\n",
    "    'finishedsquarefeet50': 'area_unknown',\n",
    "    'unitcnt': 'num_unit',\n",
    "    'numberofstories': 'num_story',\n",
    "    'roomcnt': 'num_room',\n",
    "    'bathroomcnt': 'num_bathroom',\n",
    "    'bedroomcnt': 'num_bedroom',\n",
    "    'calculatedbathnbr': 'num_bathroom_calc',\n",
    "    'fullbathcnt': 'num_bath',\n",
    "    'threequarterbathnbr': 'num_75_bath',\n",
    "    'fireplacecnt': 'num_fireplace',\n",
    "    'poolcnt': 'num_pool',\n",
    "    'garagecarcnt': 'num_garage',\n",
    "    'regionidcounty': 'region_county',\n",
    "    'regionidcity': 'region_city',\n",
    "    'regionidzip': 'region_zip',\n",
    "    'regionidneighborhood': 'region_neighbor',\n",
    "    'taxvaluedollarcnt': 'tax_total',\n",
    "    'structuretaxvaluedollarcnt': 'tax_building',\n",
    "    'landtaxvaluedollarcnt': 'tax_land',\n",
    "    'taxamount': 'tax_property',\n",
    "    'assessmentyear': 'tax_year',\n",
    "    'taxdelinquencyflag': 'tax_delinquency',\n",
    "    'taxdelinquencyyear': 'tax_delinquency_year',\n",
    "    'propertyzoningdesc': 'zoning_property',\n",
    "    'propertylandusetypeid': 'zoning_landuse',\n",
    "    'propertycountylandusecode': 'zoning_landuse_county',\n",
    "    'fireplaceflag': 'flag_fireplace',\n",
    "    'hashottuborspa': 'flag_tub',\n",
    "    'buildingqualitytypeid': 'quality',\n",
    "    'buildingclasstypeid': 'framing',\n",
    "    'typeconstructiontypeid': 'material',\n",
    "    'decktypeid': 'deck',\n",
    "    'storytypeid': 'story',\n",
    "    'heatingorsystemtypeid': 'heating',\n",
    "    'airconditioningtypeid': 'aircon',\n",
    "    'architecturalstyletypeid': 'architectural_style'\n",
    "});\n",
    "\n",
    "# treat no info as equal to no tax delinquency\n",
    "properties['tax_delinquency'] = [int(i == 'Y') for i in properties['tax_delinquency']]\n",
    "# assume no fireplace if not stated\n",
    "properties['flag_fireplace'] = [int(i == 'Y') for i in properties['flag_fireplace']]\n",
    "# assume no hot tub present\n",
    "properties['flag_tub'] = [int(i == 'Y') for i in properties['flag_tub']]"
   ]
  },
  {
   "cell_type": "code",
   "execution_count": 3,
   "metadata": {
    "collapsed": false
   },
   "outputs": [],
   "source": [
    "errors = pd.read_csv(prepath+\"train_2016_v2.csv\")"
   ]
  },
  {
   "cell_type": "code",
   "execution_count": 4,
   "metadata": {
    "collapsed": false
   },
   "outputs": [],
   "source": [
    "errors = errors.assign(transaction_year = pd.Series([int(i.split('-')[0]) for i in errors['transactiondate']]).values)\n",
    "errors = errors.assign(transaction_month = pd.Series([int(i.split('-')[1]) for i in errors['transactiondate']]).values)\n",
    "errors = errors.assign(transaction_day = pd.Series([int(i.split('-')[2]) for i in errors['transactiondate']]).values)\n",
    "errors = errors.drop('transactiondate', 1)"
   ]
  },
  {
   "cell_type": "code",
   "execution_count": 5,
   "metadata": {
    "collapsed": false
   },
   "outputs": [],
   "source": [
    "errors = errors.rename(columns={\n",
    "    'parcelid': 'id_parcel'});"
   ]
  },
  {
   "cell_type": "code",
   "execution_count": 6,
   "metadata": {
    "collapsed": false
   },
   "outputs": [],
   "source": [
    "# stupid Zillow only gave us truth values for 90k events\n",
    "goodIDs = errors['id_parcel'].values\n",
    "properties = properties[properties['id_parcel'].isin(goodIDs)]"
   ]
  },
  {
   "cell_type": "code",
   "execution_count": 7,
   "metadata": {
    "collapsed": false
   },
   "outputs": [],
   "source": [
    "#duplicates = [[item]*count for item, count in Counter(errors['id_parcel'].values).iteritems() if count > 1]\n",
    "#duplicates = np.array(duplicates).flatten()\n",
    "#len(duplicates)\n",
    "#duplicates[0]"
   ]
  },
  {
   "cell_type": "code",
   "execution_count": 8,
   "metadata": {
    "collapsed": false
   },
   "outputs": [],
   "source": [
    "# have to duplicate row when there's more than one sale for a single ID\n",
    "from collections import Counter\n",
    "\n",
    "duplicates = []\n",
    "for item, count in Counter(errors['id_parcel'].values).iteritems():\n",
    "    for _ in range(count-1):\n",
    "        duplicates.append(item)\n",
    "\n",
    "for i in duplicates:\n",
    "    properties = properties.append(properties[properties.id_parcel == i].iloc[0])"
   ]
  },
  {
   "cell_type": "code",
   "execution_count": 9,
   "metadata": {
    "collapsed": false
   },
   "outputs": [
    {
     "name": "stderr",
     "output_type": "stream",
     "text": [
      "Using TensorFlow backend.\n"
     ]
    }
   ],
   "source": [
    "import numpy as np\n",
    "from keras.models import Sequential\n",
    "from keras.layers import Dense\n",
    "from keras.wrappers.scikit_learn import KerasRegressor"
   ]
  },
  {
   "cell_type": "code",
   "execution_count": 10,
   "metadata": {
    "collapsed": false
   },
   "outputs": [],
   "source": [
    "X = properties.iloc[:,1:].values\n",
    "y = errors[[1]].values.flatten()"
   ]
  },
  {
   "cell_type": "code",
   "execution_count": 12,
   "metadata": {
    "collapsed": false
   },
   "outputs": [
    {
     "ename": "TypeError",
     "evalue": "ufunc 'isnan' not supported for the input types, and the inputs could not be safely coerced to any supported types according to the casting rule ''safe''",
     "output_type": "error",
     "traceback": [
      "\u001b[0;31m---------------------------------------------------------------------------\u001b[0m",
      "\u001b[0;31mTypeError\u001b[0m                                 Traceback (most recent call last)",
      "\u001b[0;32m<ipython-input-12-e9a1be06efa2>\u001b[0m in \u001b[0;36m<module>\u001b[0;34m()\u001b[0m\n\u001b[1;32m      3\u001b[0m \u001b[0;31m#X = [[type(value) for value in row] for row in X]\u001b[0m\u001b[0;34m\u001b[0m\u001b[0;34m\u001b[0m\u001b[0m\n\u001b[1;32m      4\u001b[0m \u001b[0;31m#np.nan_to_num(X)\u001b[0m\u001b[0;34m\u001b[0m\u001b[0;34m\u001b[0m\u001b[0m\n\u001b[0;32m----> 5\u001b[0;31m \u001b[0mwhere_are_NaNs\u001b[0m \u001b[0;34m=\u001b[0m \u001b[0mnp\u001b[0m\u001b[0;34m.\u001b[0m\u001b[0misnan\u001b[0m\u001b[0;34m(\u001b[0m\u001b[0mX\u001b[0m\u001b[0;34m)\u001b[0m\u001b[0;34m\u001b[0m\u001b[0m\n\u001b[0m\u001b[1;32m      6\u001b[0m \u001b[0mX\u001b[0m\u001b[0;34m[\u001b[0m\u001b[0mwhere_are_NaNs\u001b[0m\u001b[0;34m]\u001b[0m \u001b[0;34m=\u001b[0m \u001b[0;36m0\u001b[0m\u001b[0;34m\u001b[0m\u001b[0m\n",
      "\u001b[0;31mTypeError\u001b[0m: ufunc 'isnan' not supported for the input types, and the inputs could not be safely coerced to any supported types according to the casting rule ''safe''"
     ]
    }
   ],
   "source": [
    "# replaces all NaN with -1\n",
    "#X = [[-1 if np.isnan(value) else value for value in row] for row in X]\n",
    "#X = [[type(value) for value in row] for row in X]\n",
    "#np.nan_to_num(X)\n",
    "where_are_NaNs = np.isnan(X)\n",
    "X[where_are_NaNs] = 0"
   ]
  },
  {
   "cell_type": "code",
   "execution_count": null,
   "metadata": {
    "collapsed": false
   },
   "outputs": [],
   "source": [
    "X[0][0]"
   ]
  },
  {
   "cell_type": "code",
   "execution_count": null,
   "metadata": {
    "collapsed": false
   },
   "outputs": [],
   "source": [
    "print X[0][0] == float('nan')\n",
    "print np.isnan(X[0][0])"
   ]
  },
  {
   "cell_type": "code",
   "execution_count": null,
   "metadata": {
    "collapsed": true
   },
   "outputs": [],
   "source": [
    "# define base model for scikit_learn wrapper\n",
    "def baseline_model():\n",
    "    # create model\n",
    "    model = Sequential()\n",
    "    model.add(Dense(13, input_dim=len(X[0]), kernel_initializer='normal', activation='relu'))\n",
    "    model.add(Dense(1, kernel_initializer='normal'))\n",
    "    # Compile model\n",
    "    model.compile(loss='mean_squared_error', optimizer='adam')\n",
    "    return model"
   ]
  },
  {
   "cell_type": "code",
   "execution_count": null,
   "metadata": {
    "collapsed": false
   },
   "outputs": [],
   "source": [
    "# fix random seed for reproducibility\n",
    "seed = 7\n",
    "np.random.seed(seed)\n",
    "# evaluate model with standardized dataset\n",
    "estimator = KerasRegressor(build_fn=baseline_model, nb_epoch=100, batch_size=5, verbose=0)"
   ]
  },
  {
   "cell_type": "code",
   "execution_count": null,
   "metadata": {
    "collapsed": false
   },
   "outputs": [],
   "source": [
    "from sklearn.model_selection import cross_val_score\n",
    "from sklearn.model_selection import KFold\n",
    "from sklearn.preprocessing import StandardScaler\n",
    "from sklearn.pipeline import Pipeline"
   ]
  },
  {
   "cell_type": "code",
   "execution_count": null,
   "metadata": {
    "collapsed": false
   },
   "outputs": [],
   "source": [
    "kfold = KFold(n_splits=10, random_state=seed)\n",
    "results = cross_val_score(estimator, X, y, cv=kfold)\n",
    "print(\"Results: %.2f (%.2f) MSE\" % (results.mean(), results.std()))"
   ]
  },
  {
   "cell_type": "code",
   "execution_count": null,
   "metadata": {
    "collapsed": true
   },
   "outputs": [],
   "source": []
  }
 ],
 "metadata": {
  "kernelspec": {
   "display_name": "Python 2",
   "language": "python",
   "name": "python2"
  },
  "language_info": {
   "codemirror_mode": {
    "name": "ipython",
    "version": 2
   },
   "file_extension": ".py",
   "mimetype": "text/x-python",
   "name": "python",
   "nbconvert_exporter": "python",
   "pygments_lexer": "ipython2",
   "version": "2.7.10"
  }
 },
 "nbformat": 4,
 "nbformat_minor": 0
}
