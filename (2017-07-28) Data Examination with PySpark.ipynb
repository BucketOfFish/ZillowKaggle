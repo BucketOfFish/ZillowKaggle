{
 "cells": [
  {
   "cell_type": "markdown",
   "metadata": {},
   "source": [
    "Open notebook with pySpark"
   ]
  },
  {
   "cell_type": "code",
   "execution_count": 1,
   "metadata": {
    "collapsed": false
   },
   "outputs": [],
   "source": [
    "import csv\n",
    "import sys\n",
    "import StringIO\n",
    "import os\n",
    "\n",
    "prepath = \"/Users/mattzhang/Dropbox/Projects/Data/Zillow/\"\n",
    "zillow = spark.read.options(header='true', inferSchema='true', delimiter=',').csv(prepath+\"properties_2016.csv\")"
   ]
  },
  {
   "cell_type": "code",
   "execution_count": 17,
   "metadata": {
    "collapsed": false
   },
   "outputs": [
    {
     "name": "stdout",
     "output_type": "stream",
     "text": [
      "root\n",
      " |-- parcelid: string (nullable = true)\n",
      " |-- airconditioningtypeid: string (nullable = true)\n",
      " |-- architecturalstyletypeid: string (nullable = true)\n",
      " |-- basementsqft: string (nullable = true)\n",
      " |-- bathroomcnt: string (nullable = true)\n",
      " |-- bedroomcnt: string (nullable = true)\n",
      " |-- buildingclasstypeid: string (nullable = true)\n",
      " |-- buildingqualitytypeid: string (nullable = true)\n",
      " |-- calculatedbathnbr: string (nullable = true)\n",
      " |-- decktypeid: string (nullable = true)\n",
      " |-- finishedfloor1squarefeet: string (nullable = true)\n",
      " |-- calculatedfinishedsquarefeet: string (nullable = true)\n",
      " |-- finishedsquarefeet12: string (nullable = true)\n",
      " |-- finishedsquarefeet13: string (nullable = true)\n",
      " |-- finishedsquarefeet15: string (nullable = true)\n",
      " |-- finishedsquarefeet50: string (nullable = true)\n",
      " |-- finishedsquarefeet6: string (nullable = true)\n",
      " |-- fips: string (nullable = true)\n",
      " |-- fireplacecnt: string (nullable = true)\n",
      " |-- fullbathcnt: string (nullable = true)\n",
      " |-- garagecarcnt: string (nullable = true)\n",
      " |-- garagetotalsqft: string (nullable = true)\n",
      " |-- hashottuborspa: string (nullable = true)\n",
      " |-- heatingorsystemtypeid: string (nullable = true)\n",
      " |-- latitude: string (nullable = true)\n",
      " |-- longitude: string (nullable = true)\n",
      " |-- lotsizesquarefeet: string (nullable = true)\n",
      " |-- poolcnt: string (nullable = true)\n",
      " |-- poolsizesum: string (nullable = true)\n",
      " |-- pooltypeid10: string (nullable = true)\n",
      " |-- pooltypeid2: string (nullable = true)\n",
      " |-- pooltypeid7: string (nullable = true)\n",
      " |-- propertycountylandusecode: string (nullable = true)\n",
      " |-- propertylandusetypeid: string (nullable = true)\n",
      " |-- propertyzoningdesc: string (nullable = true)\n",
      " |-- rawcensustractandblock: string (nullable = true)\n",
      " |-- regionidcity: string (nullable = true)\n",
      " |-- regionidcounty: string (nullable = true)\n",
      " |-- regionidneighborhood: string (nullable = true)\n",
      " |-- regionidzip: string (nullable = true)\n",
      " |-- roomcnt: string (nullable = true)\n",
      " |-- storytypeid: string (nullable = true)\n",
      " |-- threequarterbathnbr: string (nullable = true)\n",
      " |-- typeconstructiontypeid: string (nullable = true)\n",
      " |-- unitcnt: string (nullable = true)\n",
      " |-- yardbuildingsqft17: string (nullable = true)\n",
      " |-- yardbuildingsqft26: string (nullable = true)\n",
      " |-- yearbuilt: string (nullable = true)\n",
      " |-- numberofstories: string (nullable = true)\n",
      " |-- fireplaceflag: string (nullable = true)\n",
      " |-- structuretaxvaluedollarcnt: string (nullable = true)\n",
      " |-- taxvaluedollarcnt: string (nullable = true)\n",
      " |-- assessmentyear: string (nullable = true)\n",
      " |-- landtaxvaluedollarcnt: string (nullable = true)\n",
      " |-- taxamount: string (nullable = true)\n",
      " |-- taxdelinquencyflag: string (nullable = true)\n",
      " |-- taxdelinquencyyear: string (nullable = true)\n",
      " |-- censustractandblock: string (nullable = true)\n",
      "\n"
     ]
    }
   ],
   "source": [
    "zillow.printSchema()"
   ]
  },
  {
   "cell_type": "code",
   "execution_count": 19,
   "metadata": {
    "collapsed": false
   },
   "outputs": [
    {
     "name": "stdout",
     "output_type": "stream",
     "text": [
      "+--------+--------+----------+\n",
      "|parcelid|latitude| longitude|\n",
      "+--------+--------+----------+\n",
      "|10754147|34144442|-118654084|\n",
      "|10759547|34140430|-118625364|\n",
      "|10843547|33989359|-118394633|\n",
      "|10859147|34148863|-118437206|\n",
      "|10879947|34194168|-118385816|\n",
      "|10898347|34171873|-118380906|\n",
      "|10933547|34131929|-118351474|\n",
      "|10940747|34171345|-118314900|\n",
      "|10954547|34218210|-118331311|\n",
      "|10976347|34289776|-118432085|\n",
      "|11073947|34265214|-118520217|\n",
      "|11114347|34447747|-118565056|\n",
      "|11116947|34465048|-118568166|\n",
      "|11142747|34416889|-118505805|\n",
      "|11193347|34585014|-118162010|\n",
      "|11215747|34563376|-118019104|\n",
      "|11229347|34526913|-118050581|\n",
      "|11287347|34690736|-118135225|\n",
      "|11288547|34733960|-118139298|\n",
      "|11324547|34560018|-118169806|\n",
      "+--------+--------+----------+\n",
      "only showing top 20 rows\n",
      "\n"
     ]
    }
   ],
   "source": [
    "zillow.select('parcelid', 'latitude', 'longitude').show()"
   ]
  },
  {
   "cell_type": "code",
   "execution_count": 22,
   "metadata": {
    "collapsed": false
   },
   "outputs": [
    {
     "name": "stdout",
     "output_type": "stream",
     "text": [
      "+--------+--------+----------+\n",
      "|parcelid|latitude| longitude|\n",
      "+--------+--------+----------+\n",
      "|10843547|33989359|-118394633|\n",
      "|10859147|34148863|-118437206|\n",
      "|10879947|34194168|-118385816|\n",
      "|10898347|34171873|-118380906|\n",
      "|10933547|34131929|-118351474|\n",
      "|10940747|34171345|-118314900|\n",
      "|10954547|34218210|-118331311|\n",
      "|10976347|34289776|-118432085|\n",
      "|11073947|34265214|-118520217|\n",
      "|11114347|34447747|-118565056|\n",
      "|11116947|34465048|-118568166|\n",
      "|11142747|34416889|-118505805|\n",
      "|11193347|34585014|-118162010|\n",
      "|11215747|34563376|-118019104|\n",
      "|11229347|34526913|-118050581|\n",
      "|11287347|34690736|-118135225|\n",
      "|11288547|34733960|-118139298|\n",
      "|11324547|34560018|-118169806|\n",
      "|11391347|33986910|-118329553|\n",
      "|11395747|33960238|-118319986|\n",
      "+--------+--------+----------+\n",
      "only showing top 20 rows\n",
      "\n"
     ]
    }
   ],
   "source": [
    "zillow.filter(zillow['parcelid'] > 10800000).select('parcelid', 'latitude', 'longitude').show()"
   ]
  },
  {
   "cell_type": "code",
   "execution_count": 24,
   "metadata": {
    "collapsed": false
   },
   "outputs": [
    {
     "name": "stdout",
     "output_type": "stream",
     "text": [
      "+-------+-----+\n",
      "|unitcnt|count|\n",
      "+-------+-----+\n",
      "|    125|    1|\n",
      "|      7|  167|\n",
      "|     51|    3|\n",
      "|     15|   17|\n",
      "|     54|    4|\n",
      "|    232|    1|\n",
      "|    383|    1|\n",
      "|    132|    1|\n",
      "|     11|   47|\n",
      "|    101|    1|\n",
      "|    685|    1|\n",
      "|    279|    1|\n",
      "|    138|    1|\n",
      "|     29|    4|\n",
      "|     69|    3|\n",
      "|     42|    3|\n",
      "|    112|    1|\n",
      "|     73|    1|\n",
      "|     87|    2|\n",
      "|      3|39830|\n",
      "+-------+-----+\n",
      "only showing top 20 rows\n",
      "\n"
     ]
    }
   ],
   "source": [
    "zillow.groupBy('unitcnt').count().show()"
   ]
  },
  {
   "cell_type": "code",
   "execution_count": 26,
   "metadata": {
    "collapsed": false
   },
   "outputs": [
    {
     "name": "stdout",
     "output_type": "stream",
     "text": [
      "+-------+-------+\n",
      "|unitcnt|  count|\n",
      "+-------+-------+\n",
      "|   null|1007727|\n",
      "|      1|1780051|\n",
      "|     10|     97|\n",
      "|    100|      3|\n",
      "|    101|      1|\n",
      "|    102|      1|\n",
      "|    105|      2|\n",
      "|     11|     47|\n",
      "|    111|      3|\n",
      "|    112|      1|\n",
      "|    113|      1|\n",
      "|    114|      1|\n",
      "|    118|      1|\n",
      "|     12|     52|\n",
      "|    120|      1|\n",
      "|    125|      1|\n",
      "|    127|      2|\n",
      "|     13|     35|\n",
      "|    130|      1|\n",
      "|    131|      1|\n",
      "+-------+-------+\n",
      "only showing top 20 rows\n",
      "\n"
     ]
    }
   ],
   "source": [
    "zillow.groupBy('unitcnt').count().sort('unitcnt').show()"
   ]
  },
  {
   "cell_type": "code",
   "execution_count": null,
   "metadata": {
    "collapsed": true
   },
   "outputs": [],
   "source": []
  }
 ],
 "metadata": {
  "kernelspec": {
   "display_name": "Python 2",
   "language": "python",
   "name": "python2"
  },
  "language_info": {
   "codemirror_mode": {
    "name": "ipython",
    "version": 2
   },
   "file_extension": ".py",
   "mimetype": "text/x-python",
   "name": "python",
   "nbconvert_exporter": "python",
   "pygments_lexer": "ipython2",
   "version": "2.7.10"
  }
 },
 "nbformat": 4,
 "nbformat_minor": 0
}
